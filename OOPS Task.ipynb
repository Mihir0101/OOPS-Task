{
 "cells": [
  {
   "cell_type": "markdown",
   "id": "a048db94-d482-4b0b-a904-3089342a833c",
   "metadata": {},
   "source": [
    "# OOPS Task"
   ]
  },
  {
   "cell_type": "markdown",
   "id": "eae0dfd8-756e-4722-9aeb-19f7cb132749",
   "metadata": {},
   "source": [
    "Q1. Create a vehicle class with an init method having instance variables as name_of_vehicle, max_speed\n",
    "and average_of_vehicle."
   ]
  },
  {
   "cell_type": "code",
   "execution_count": 2,
   "id": "b7489f77-14d9-457e-9d58-ffa9382b7677",
   "metadata": {},
   "outputs": [],
   "source": [
    "class vehicle:\n",
    "    \n",
    "    def __init__(self,name_of_vehicle,max_speed,average_of_vehicle):\n",
    "        self.name_of_vehicle=name_of_vehicle\n",
    "        self.max_speed=max_speed\n",
    "        self.average_of_vehicle=average_of_vehicle\n",
    "        \n",
    "    def give_information(self):\n",
    "        return self.name_of_vehicle,self.max_speed,self.average_of_vehicle\n",
    "          \n",
    "    "
   ]
  },
  {
   "cell_type": "markdown",
   "id": "4ae3692a-efa4-443f-90c8-d85d6267c6c1",
   "metadata": {},
   "source": [
    "Q2. Create a child class car from the vehicle class created in Que 1, which will inherit the vehicle class.\n",
    "Create a method named seating_capacity which takes capacity as an argument and returns the name of\n",
    "the vehicle and its seating capacity."
   ]
  },
  {
   "cell_type": "code",
   "execution_count": 17,
   "id": "9d5e6db0-5193-4599-a8f5-2212349d6c42",
   "metadata": {},
   "outputs": [],
   "source": [
    "class car(vehicle):\n",
    "\n",
    "    def seating_capacity(self,capacity):\n",
    "        if capacity == \"average\":\n",
    "            print(\"Activa\")\n",
    "        elif capacity == \"Nice\":\n",
    "            print(\"Bike\")\n",
    "        elif capacity == \"Good\":\n",
    "            print(\"Car\")\n",
    "        else :\n",
    "            print(\"Airoplane\")"
   ]
  },
  {
   "cell_type": "code",
   "execution_count": 13,
   "id": "125998ca-ed56-4363-9094-f1501bc94f5b",
   "metadata": {},
   "outputs": [],
   "source": [
    "know = car(car,120,20)"
   ]
  },
  {
   "cell_type": "code",
   "execution_count": 16,
   "id": "e2b81ccf-3f49-4c14-8a6a-bb9b3bdff4c3",
   "metadata": {},
   "outputs": [
    {
     "name": "stdout",
     "output_type": "stream",
     "text": [
      "Activa\n"
     ]
    }
   ],
   "source": [
    "know.seating_capacity(\"average\")"
   ]
  },
  {
   "cell_type": "markdown",
   "id": "c30556e4-9103-4b66-8b71-03cbccf0eaec",
   "metadata": {},
   "source": [
    "Q3. What is multiple inheritance? Write a python code to demonstrate multiple inheritance."
   ]
  },
  {
   "cell_type": "markdown",
   "id": "95bf6500-eb4c-4e49-8a5b-e0a0e63b3959",
   "metadata": {},
   "source": [
    "-> When the class is derived from more than one base class is called \"Multiple Inheritance\"."
   ]
  },
  {
   "cell_type": "code",
   "execution_count": 2,
   "id": "44898aa2-9dc3-49eb-afe9-ace025329109",
   "metadata": {},
   "outputs": [],
   "source": [
    "class Game1:\n",
    "    def bgmi(self):\n",
    "        return \"This is Battle-Grounds Mobile India\""
   ]
  },
  {
   "cell_type": "code",
   "execution_count": 3,
   "id": "a95fa4d9-994c-48f4-8ecb-9ff204846402",
   "metadata": {},
   "outputs": [],
   "source": [
    "class Game2(Game1):\n",
    "    def coc(self):\n",
    "        return \"This is Clash Of Clans\""
   ]
  },
  {
   "cell_type": "code",
   "execution_count": 4,
   "id": "93f5855f-4498-45d5-a3f0-f6c54b1633bf",
   "metadata": {},
   "outputs": [],
   "source": [
    "class Game3(Game2):\n",
    "    def cod(self):\n",
    "        return \"This is Call Of Duty\""
   ]
  },
  {
   "cell_type": "code",
   "execution_count": 5,
   "id": "7b4a7f27-cc2a-482b-a1d6-a459ca7894a8",
   "metadata": {},
   "outputs": [],
   "source": [
    "class Games(Game3,Game2):\n",
    "    pass"
   ]
  },
  {
   "cell_type": "markdown",
   "id": "40cf8d74-5dc0-4123-aa0e-43c4c15a5ec7",
   "metadata": {},
   "source": [
    "Q4. What are getter and setter in python? Create a class and create a getter and a setter method in this\n",
    "class."
   ]
  },
  {
   "cell_type": "markdown",
   "id": "d93b3335-f55e-4791-8c5f-8eb0afda2891",
   "metadata": {},
   "source": [
    "-> Setters and getters are used in encapsulation.\n",
    "\n",
    "-> When you want to get input of any encapsuled object, for that setter is used.\n",
    "\n",
    "-> And getter is used to get output of that object."
   ]
  },
  {
   "cell_type": "code",
   "execution_count": 32,
   "id": "61f5cc88-381d-4d70-93fa-7369d405e383",
   "metadata": {},
   "outputs": [],
   "source": [
    "class personal_info:\n",
    "    \n",
    "    def __init__(self,name,sername,mail_id,phone_number):\n",
    "        self.__name=name\n",
    "        self.__sername=sername\n",
    "        self.__mail_id=mail_id\n",
    "        self.__phone_number=phone_number\n",
    "        \n",
    "    def set_name(self,name):\n",
    "        self.__name=name if len(name)<=5 else \"Invalid Name\"\n",
    "        \n",
    "    def get_name(self):\n",
    "        return self.__name\n",
    "        \n",
    "    "
   ]
  },
  {
   "cell_type": "code",
   "execution_count": 33,
   "id": "6033858e-572c-40e1-82df-ef9fb5fbc3ec",
   "metadata": {},
   "outputs": [],
   "source": [
    "info=personal_info(\"Mihir\",\"Parmar\",\"parmar@gmail.com\",6589754160)"
   ]
  },
  {
   "cell_type": "code",
   "execution_count": 34,
   "id": "7b07d64a-a9f1-4640-b0cf-4ce1930aa9ff",
   "metadata": {},
   "outputs": [
    {
     "data": {
      "text/plain": [
       "6589754160"
      ]
     },
     "execution_count": 34,
     "metadata": {},
     "output_type": "execute_result"
    }
   ],
   "source": [
    "info._personal_info__phone_number"
   ]
  },
  {
   "cell_type": "code",
   "execution_count": 35,
   "id": "47ec7a19-e2e0-4af7-83a2-670e55468885",
   "metadata": {},
   "outputs": [
    {
     "data": {
      "text/plain": [
       "'Mihir'"
      ]
     },
     "execution_count": 35,
     "metadata": {},
     "output_type": "execute_result"
    }
   ],
   "source": [
    "info._personal_info__name"
   ]
  },
  {
   "cell_type": "code",
   "execution_count": 38,
   "id": "3914a930-25af-4365-a6ca-14d7a2bd7140",
   "metadata": {},
   "outputs": [],
   "source": [
    "info.set_name(\"Nikhilesh\")"
   ]
  },
  {
   "cell_type": "code",
   "execution_count": 39,
   "id": "104030f9-1084-4727-af7f-85fcce6ed150",
   "metadata": {},
   "outputs": [
    {
     "data": {
      "text/plain": [
       "'Invalid Name'"
      ]
     },
     "execution_count": 39,
     "metadata": {},
     "output_type": "execute_result"
    }
   ],
   "source": [
    "info.get_name()"
   ]
  },
  {
   "cell_type": "markdown",
   "id": "f8e71e68-7cc0-4aed-966e-c2d1bc9fdcd6",
   "metadata": {},
   "source": [
    "Q5.What is method overriding in python? Write a python code to demonstrate method overriding."
   ]
  },
  {
   "cell_type": "code",
   "execution_count": 48,
   "id": "8965e2dc-33fb-4189-891e-4529abb5d971",
   "metadata": {},
   "outputs": [
    {
     "name": "stdout",
     "output_type": "stream",
     "text": [
      "Hii\n",
      "Hello\n"
     ]
    }
   ],
   "source": [
    "class a():\n",
    "    def say(self):\n",
    "        print(\"Hii\")\n",
    "    \n",
    "class b():\n",
    "    def say(self):\n",
    "        print(\"Hello\")\n",
    "    \n",
    "def c(obb):\n",
    "    for i in obb:\n",
    "        i.say()\n",
    "        \n",
    "aa=a()\n",
    "bb=b()\n",
    "\n",
    "obb=[aa,bb]\n",
    "\n",
    "c(obb)"
   ]
  },
  {
   "cell_type": "code",
   "execution_count": null,
   "id": "f0b104eb-ec64-40fb-8196-8bb0a38187a9",
   "metadata": {},
   "outputs": [],
   "source": []
  }
 ],
 "metadata": {
  "kernelspec": {
   "display_name": "Python 3 (ipykernel)",
   "language": "python",
   "name": "python3"
  },
  "language_info": {
   "codemirror_mode": {
    "name": "ipython",
    "version": 3
   },
   "file_extension": ".py",
   "mimetype": "text/x-python",
   "name": "python",
   "nbconvert_exporter": "python",
   "pygments_lexer": "ipython3",
   "version": "3.10.8"
  }
 },
 "nbformat": 4,
 "nbformat_minor": 5
}
